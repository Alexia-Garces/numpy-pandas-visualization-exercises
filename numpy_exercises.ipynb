{
 "cells": [
  {
   "cell_type": "markdown",
   "id": "0c1c2827",
   "metadata": {},
   "source": [
    "# numpy exercises"
   ]
  },
  {
   "cell_type": "markdown",
   "id": "093b6e2e",
   "metadata": {},
   "source": [
    "## Use the following code for the questions below"
   ]
  },
  {
   "cell_type": "code",
   "execution_count": 16,
   "id": "889a9c6a",
   "metadata": {},
   "outputs": [],
   "source": [
    "a = np.array([4, 10, 12, 23, -2, -1, 0, 0, 0, -6, 3, -7])"
   ]
  },
  {
   "cell_type": "code",
   "execution_count": 17,
   "id": "dc1bcb47",
   "metadata": {},
   "outputs": [],
   "source": [
    "import numpy as np"
   ]
  },
  {
   "cell_type": "markdown",
   "id": "425772eb",
   "metadata": {},
   "source": [
    "## 1. How many negative numbers are there?"
   ]
  },
  {
   "cell_type": "code",
   "execution_count": 20,
   "id": "461b9989",
   "metadata": {},
   "outputs": [
    {
     "name": "stdout",
     "output_type": "stream",
     "text": [
      "4\n"
     ]
    }
   ],
   "source": [
    "count_of_negative_numbers = np.count_nonzero(a < 0)\n",
    "print (count_of_negative_numbers)"
   ]
  },
  {
   "cell_type": "markdown",
   "id": "92400967",
   "metadata": {},
   "source": [
    "## 2.  How many positive numbers are there?"
   ]
  },
  {
   "cell_type": "code",
   "execution_count": 23,
   "id": "c4288bfd",
   "metadata": {},
   "outputs": [
    {
     "name": "stdout",
     "output_type": "stream",
     "text": [
      "5\n"
     ]
    }
   ],
   "source": [
    "count_of_positive_numbers = \n",
    "print (count_of_positive_numbers)"
   ]
  },
  {
   "cell_type": "markdown",
   "id": "df017bd1",
   "metadata": {},
   "source": [
    "## 3.  How many even positive numbers are there?"
   ]
  },
  {
   "cell_type": "code",
   "execution_count": 44,
   "id": "406521c5",
   "metadata": {},
   "outputs": [
    {
     "name": "stdout",
     "output_type": "stream",
     "text": [
      "3\n"
     ]
    }
   ],
   "source": [
    "even_numbers = a[a % 2 == 0]\n",
    "count_of_even_positive_numbers = np.count_nonzero(even_numbers > 0)\n",
    "print(count_of_even_positive_numbers)\n"
   ]
  },
  {
   "cell_type": "markdown",
   "id": "556b2703",
   "metadata": {},
   "source": [
    "## 4. If you were to add 3 to each data point, how many positive numbers would there be?"
   ]
  },
  {
   "cell_type": "code",
   "execution_count": 47,
   "id": "92d9a59e",
   "metadata": {},
   "outputs": [
    {
     "name": "stdout",
     "output_type": "stream",
     "text": [
      "10\n"
     ]
    }
   ],
   "source": [
    "three_added = a + 3\n",
    "count_of_positive_numbers_plus_three = np.count_nonzero(three_added > 0)\n",
    "print(count_of_positive_numbers_plus_three)"
   ]
  },
  {
   "cell_type": "code",
   "execution_count": 48,
   "id": "a6d6483f",
   "metadata": {},
   "outputs": [
    {
     "name": "stdout",
     "output_type": "stream",
     "text": [
      "[ 7 13 15 26  1  2  3  3  3 -3  6 -4]\n"
     ]
    }
   ],
   "source": [
    "print(three_added)"
   ]
  },
  {
   "cell_type": "markdown",
   "id": "f92b4f49",
   "metadata": {},
   "source": [
    "## 5.  If you squared each number, what would the new mean and standard deviation be?"
   ]
  },
  {
   "cell_type": "code",
   "execution_count": 49,
   "id": "1395e7dd",
   "metadata": {},
   "outputs": [
    {
     "data": {
      "text/plain": [
       "array([ 16, 100, 144, 529,   4,   1,   0,   0,   0,  36,   9,  49])"
      ]
     },
     "execution_count": 49,
     "metadata": {},
     "output_type": "execute_result"
    }
   ],
   "source": [
    "a ** 2"
   ]
  },
  {
   "cell_type": "code",
   "execution_count": 70,
   "id": "5e202f29",
   "metadata": {},
   "outputs": [
    {
     "name": "stdout",
     "output_type": "stream",
     "text": [
      "The new mean is 74.0\n"
     ]
    }
   ],
   "source": [
    "a_squared = a ** 2\n",
    "print(\"The new mean is\" , a_squared.mean())\n"
   ]
  },
  {
   "cell_type": "code",
   "execution_count": 69,
   "id": "f9fd0aaf",
   "metadata": {},
   "outputs": [
    {
     "name": "stdout",
     "output_type": "stream",
     "text": [
      "The new standard deviation is 144.0243035046516\n"
     ]
    }
   ],
   "source": [
    " print(\"The new standard deviation is\", a_squared.std())"
   ]
  },
  {
   "cell_type": "code",
   "execution_count": null,
   "id": "6f502af1",
   "metadata": {},
   "outputs": [],
   "source": []
  }
 ],
 "metadata": {
  "kernelspec": {
   "display_name": "Python 3",
   "language": "python",
   "name": "python3"
  },
  "language_info": {
   "codemirror_mode": {
    "name": "ipython",
    "version": 3
   },
   "file_extension": ".py",
   "mimetype": "text/x-python",
   "name": "python",
   "nbconvert_exporter": "python",
   "pygments_lexer": "ipython3",
   "version": "3.8.8"
  }
 },
 "nbformat": 4,
 "nbformat_minor": 5
}
